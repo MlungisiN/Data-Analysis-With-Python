{
 "cells": [
  {
   "cell_type": "markdown",
   "id": "ba741944",
   "metadata": {},
   "source": [
    "# Classification"
   ]
  },
  {
   "cell_type": "markdown",
   "id": "ee2ba19a",
   "metadata": {},
   "source": [
    "![Data Science Workflow](img/ds-workflow.png)"
   ]
  },
  {
   "cell_type": "markdown",
   "id": "52a2b3af",
   "metadata": {},
   "source": [
    "## What is Classification?\n",
    "- A **Machine Learing** algorithm\n",
    "- Try to classify rows of data into categories (classes)"
   ]
  },
  {
   "cell_type": "markdown",
   "id": "c89a9b72",
   "metadata": {},
   "source": [
    "## Machine Learning\n",
    "### Machine Learning with Python – for Beginners\n",
    "\n",
    "[**Machine Learning with Python is a 10+ hours FREE course**](https://www.learnpythonwithrune.org/machine-learning/)\n",
    "– a journey from zero to mastery.\n",
    "- The course consist of the following content.\n",
    "    - **15 video lessons** – which explain Machine Learning concepts, demonstrate models on real data, introduce projects and show a solution.\n",
    "    - **30 JuPyter Notebooks** – with the full code and explanation from the lectures and projects (GitHub).\n",
    "    - **15 projects** – with step guides to help you structure your solutions and solution explained in the end of video lessons."
   ]
  },
  {
   "cell_type": "markdown",
   "id": "e4165ca6",
   "metadata": {},
   "source": [
    "## What is Machine Learning?\n",
    "\n",
    "![Machine Learning](img/machine_learning.png)\n",
    "\n",
    "- In the **classical computing model** every thing is programmed into the algorithms. \n",
    "    - This has the limitation that all decision logic need to be understood before usage. \n",
    "    - And if things change, we need to modify the program.\n",
    "- With the **modern computing model (Machine Learning)** this paradigm is changes. \n",
    "    - We feed the algorithms (models) with data.\n",
    "    - Based on that data, the algorithms (models) make decisions in the program."
   ]
  },
  {
   "cell_type": "markdown",
   "id": "a2076760",
   "metadata": {},
   "source": [
    "## How Machine Learning Works\n",
    "\n",
    "### Phase 1: Learning\n",
    "\n",
    "![ML Learning](img/ml_process.png)\n",
    "\n",
    "- **Get Data**: Identify relevant data for the problem you want to solve. This data set should represent the type of data that the Machine Learn model will use to predict from in Phase 2 (predction).\n",
    "- **Pre-processing**: This step is about cleaning up data. While the Machine Learning is awesome, it cannot figure out what good data looks like. You need to do the cleaning as well as transforming data into a desired format.\n",
    "- **Train model**: This is where the magic happens, the learning step (Train model). There are three main paradigms in machine learning.\n",
    "    - **Supervised**: where you tell the algorithm what categories each data item is in. Each data item from the training set is tagged with the right answer.\n",
    "    - **Unsupervised**: is when the learning algorithm is not told what to do with it and it should make the structure itself.\n",
    "    - **Reinforcement**: teaches the machine to think for itself based on past action rewards.\n",
    "- **Test model**: Finally, the testing is done to see if the model is good. The training data was divided into a test set and training set. The test set is used to see if the model can predict from it. If not, a new model might be necessary.\n",
    "\n",
    "### Phase 2: Prediction\n",
    "\n",
    "![ML Prediction](img/ml_prediction.png)"
   ]
  },
  {
   "cell_type": "markdown",
   "id": "ca71b60e",
   "metadata": {},
   "source": [
    "## Supervised Learning\n",
    " - Given a dataset of input-output pairs, learn a function to map inputs to outputs\n",
    " - There are different tasks - but we start to focus on **Classification**\n",
    " \n",
    " \n",
    " ### Classification\n",
    " - **Supervised learning**: the task of learning a function mapping an input point to a descrete category"
   ]
  },
  {
   "cell_type": "markdown",
   "id": "473db377",
   "metadata": {},
   "source": [
    "### Example: Iris Flower Dataset\n",
    "- [Kaggle Iris Flower Dataset](https://www.kaggle.com/arshid/iris-flower-dataset)\n",
    "- Consists of three classes: `Iris-setosa`, `Iris-versicolor`, and `Iris-virginica`\n",
    "- Given depedent features can we predict class"
   ]
  },
  {
   "cell_type": "code",
   "execution_count": 1,
   "id": "218099dd",
   "metadata": {},
   "outputs": [],
   "source": [
    "import pandas as pd"
   ]
  },
  {
   "cell_type": "code",
   "execution_count": 2,
   "id": "3aebf4ab",
   "metadata": {},
   "outputs": [
    {
     "data": {
      "text/html": [
       "<div>\n",
       "<style scoped>\n",
       "    .dataframe tbody tr th:only-of-type {\n",
       "        vertical-align: middle;\n",
       "    }\n",
       "\n",
       "    .dataframe tbody tr th {\n",
       "        vertical-align: top;\n",
       "    }\n",
       "\n",
       "    .dataframe thead th {\n",
       "        text-align: right;\n",
       "    }\n",
       "</style>\n",
       "<table border=\"1\" class=\"dataframe\">\n",
       "  <thead>\n",
       "    <tr style=\"text-align: right;\">\n",
       "      <th></th>\n",
       "      <th>Id</th>\n",
       "      <th>SepalLengthCm</th>\n",
       "      <th>SepalWidthCm</th>\n",
       "      <th>PetalLengthCm</th>\n",
       "      <th>PetalWidthCm</th>\n",
       "      <th>Species</th>\n",
       "    </tr>\n",
       "  </thead>\n",
       "  <tbody>\n",
       "    <tr>\n",
       "      <th>0</th>\n",
       "      <td>1</td>\n",
       "      <td>5.1</td>\n",
       "      <td>3.5</td>\n",
       "      <td>1.4</td>\n",
       "      <td>0.2</td>\n",
       "      <td>Iris-setosa</td>\n",
       "    </tr>\n",
       "    <tr>\n",
       "      <th>1</th>\n",
       "      <td>2</td>\n",
       "      <td>4.9</td>\n",
       "      <td>3.0</td>\n",
       "      <td>1.4</td>\n",
       "      <td>0.2</td>\n",
       "      <td>Iris-setosa</td>\n",
       "    </tr>\n",
       "    <tr>\n",
       "      <th>2</th>\n",
       "      <td>3</td>\n",
       "      <td>4.7</td>\n",
       "      <td>3.2</td>\n",
       "      <td>1.3</td>\n",
       "      <td>0.2</td>\n",
       "      <td>Iris-setosa</td>\n",
       "    </tr>\n",
       "    <tr>\n",
       "      <th>3</th>\n",
       "      <td>4</td>\n",
       "      <td>4.6</td>\n",
       "      <td>3.1</td>\n",
       "      <td>1.5</td>\n",
       "      <td>0.2</td>\n",
       "      <td>Iris-setosa</td>\n",
       "    </tr>\n",
       "    <tr>\n",
       "      <th>4</th>\n",
       "      <td>5</td>\n",
       "      <td>5.0</td>\n",
       "      <td>3.6</td>\n",
       "      <td>1.4</td>\n",
       "      <td>0.2</td>\n",
       "      <td>Iris-setosa</td>\n",
       "    </tr>\n",
       "  </tbody>\n",
       "</table>\n",
       "</div>"
      ],
      "text/plain": [
       "   Id  SepalLengthCm  SepalWidthCm  PetalLengthCm  PetalWidthCm      Species\n",
       "0   1            5.1           3.5            1.4           0.2  Iris-setosa\n",
       "1   2            4.9           3.0            1.4           0.2  Iris-setosa\n",
       "2   3            4.7           3.2            1.3           0.2  Iris-setosa\n",
       "3   4            4.6           3.1            1.5           0.2  Iris-setosa\n",
       "4   5            5.0           3.6            1.4           0.2  Iris-setosa"
      ]
     },
     "execution_count": 2,
     "metadata": {},
     "output_type": "execute_result"
    }
   ],
   "source": [
    "data = pd.read_csv('files/iris.csv')\n",
    "data.head()"
   ]
  },
  {
   "cell_type": "code",
   "execution_count": 3,
   "id": "91f6eeeb",
   "metadata": {},
   "outputs": [
    {
     "data": {
      "text/plain": [
       "Iris-setosa        50\n",
       "Iris-versicolor    50\n",
       "Iris-virginica     50\n",
       "Name: Species, dtype: int64"
      ]
     },
     "execution_count": 3,
     "metadata": {},
     "output_type": "execute_result"
    }
   ],
   "source": [
    "data['Species'].value_counts()"
   ]
  },
  {
   "cell_type": "markdown",
   "id": "6b371315",
   "metadata": {},
   "source": [
    "### Machine Leaning\n",
    "- A Few Machine Learning Models\n",
    "    - [`SVC`](https://scikit-learn.org/stable/modules/generated/sklearn.svm.SVC.html) C-Support Vector Classification.\n",
    "    - [`KNeighborsClassifier`](https://scikit-learn.org/stable/modules/generated/sklearn.neighbors.KNeighborsClassifier.html) Classifier implementing the k-nearest neighbors vote.\n",
    "- Steps\n",
    "    - **Step 1**: Assign independent features (those predicting) to `X`\n",
    "    - **Step 2**: Assign classes (labels/dependent features) to `y`\n",
    "    - **Step 3**: Divide into training and test sets\n",
    "    ```Python\n",
    "X_train, X_test, y_train, y_test = train_test_split(X, y, test_size=0.2, random_state=42)\n",
    "```\n",
    "    - **Step 4**: Create the model\n",
    "    ```Python\n",
    "svc = SVC()\n",
    "```\n",
    "    - **Step 5**: Fit the model\n",
    "    ```Python\n",
    "svc.fit(X_train, y_train)\n",
    "```\n",
    "    - **Step 6**: Predict with the model\n",
    "    ```Python\n",
    "y_pred = svc.predict(X_test)\n",
    "```\n",
    "    - **Step 7**: Test the accuracy\n",
    "    ```Python\n",
    "accuracy_score(y_test, y_pred)\n",
    "```"
   ]
  },
  {
   "cell_type": "code",
   "execution_count": 4,
   "id": "00735585",
   "metadata": {},
   "outputs": [],
   "source": [
    "from sklearn.model_selection import train_test_split\n",
    "from sklearn.svm import SVC\n",
    "from sklearn.metrics import accuracy_score"
   ]
  },
  {
   "cell_type": "code",
   "execution_count": 6,
   "id": "f6c7004a",
   "metadata": {},
   "outputs": [],
   "source": [
    "X = data.drop('Species', axis=1)\n",
    "y = data['Species']"
   ]
  },
  {
   "cell_type": "code",
   "execution_count": 7,
   "id": "e67dbf4d",
   "metadata": {},
   "outputs": [],
   "source": [
    "X_train, X_test, y_train, y_test = train_test_split(X, y, test_size=0.2, random_state=42)"
   ]
  },
  {
   "cell_type": "code",
   "execution_count": 9,
   "id": "fe90c3c8",
   "metadata": {},
   "outputs": [
    {
     "data": {
      "text/plain": [
       "1.0"
      ]
     },
     "execution_count": 9,
     "metadata": {},
     "output_type": "execute_result"
    }
   ],
   "source": [
    "svc = SVC()\n",
    "svc.fit(X_train, y_train)\n",
    "y_pred = svc.predict(X_test)\n",
    "accuracy_score(y_test, y_pred)"
   ]
  },
  {
   "cell_type": "markdown",
   "id": "1f71cc09",
   "metadata": {},
   "source": [
    "### Finding most important feature\n",
    "- [`permutation_importance`](https://scikit-learn.org/stable/modules/generated/sklearn.inspection.permutation_importance.html) Permutation importance for feature evaluation.\n",
    "- Use the `permutation_importance` to calculate it.\n",
    "```Python\n",
    "perm_importance = permutation_importance(svc, X_test, y_test)\n",
    "```\n",
    "- The results will be found in `perm_importance.importances_mean`"
   ]
  },
  {
   "cell_type": "code",
   "execution_count": 10,
   "id": "7c3ac828",
   "metadata": {},
   "outputs": [],
   "source": [
    "from sklearn.inspection import permutation_importance"
   ]
  },
  {
   "cell_type": "code",
   "execution_count": 11,
   "id": "692625c8",
   "metadata": {},
   "outputs": [
    {
     "data": {
      "text/plain": [
       "array([0.64, 0.  , 0.  , 0.  , 0.  ])"
      ]
     },
     "execution_count": 11,
     "metadata": {},
     "output_type": "execute_result"
    }
   ],
   "source": [
    "perm_importance = permutation_importance(svc, X_test, y_test)\n",
    "perm_importance.importances_mean"
   ]
  },
  {
   "cell_type": "code",
   "execution_count": null,
   "id": "65887bcf",
   "metadata": {},
   "outputs": [],
   "source": []
  },
  {
   "cell_type": "markdown",
   "id": "8539fd26",
   "metadata": {},
   "source": [
    "### Visualize the features by importance\n",
    "- The most important features are given by `perm_importance.importances_mean.argsort()`\n",
    "    - HINT: assign it to `sorted_idx`\n",
    "- To visualize it we can create a DataFrame\n",
    "```Python\n",
    "pd.DataFrame(perm_importance.importances_mean[sorted_idx], X_test.columns[sorted_idx], columns=['Value'])\n",
    "```\n",
    "- Then make a `barh` plot (use `figsize`)"
   ]
  },
  {
   "cell_type": "code",
   "execution_count": 12,
   "id": "7e8e3a55",
   "metadata": {},
   "outputs": [
    {
     "data": {
      "text/plain": [
       "<AxesSubplot:>"
      ]
     },
     "execution_count": 12,
     "metadata": {},
     "output_type": "execute_result"
    },
    {
     "data": {
      "image/png": "[encoded data removed]",
      "text/plain": [
       "<Figure size 432x288 with 1 Axes>"
      ]
     },
     "metadata": {
      "needs_background": "light"
     },
     "output_type": "display_data"
    }
   ],
   "source": [
    "sorted_idx = perm_importance.importances_mean.argsort()\n",
    "df = pd.DataFrame(perm_importance.importances_mean[sorted_idx], X_test.columns[sorted_idx], columns=['Value'])\n",
    "df.plot.barh()"
   ]
  },
  {
   "cell_type": "code",
   "execution_count": 14,
   "id": "6681f283",
   "metadata": {},
   "outputs": [
    {
     "data": {
      "text/plain": [
       "<AxesSubplot:xlabel='PetalLengthCm', ylabel='PetalWidthCm'>"
      ]
     },
     "execution_count": 14,
     "metadata": {},
     "output_type": "execute_result"
    },
    {
     "data": {
      "image/png": "[encoded data removed]",
      "text/plain": [
       "<Figure size 432x288 with 1 Axes>"
      ]
     },
     "metadata": {
      "needs_background": "light"
     },
     "output_type": "display_data"
    }
   ],
   "source": [
    "color_map = {'Iris-setosa': 'b', 'Iris-versicolor': 'r', 'Iris-virginica': 'y'}\n",
    "\n",
    "colors = data['Species'].apply(lambda x: color_map[x])\n",
    "\n",
    "data.plot.scatter(x='PetalLengthCm', y='PetalWidthCm', c=colors)"
   ]
  },
  {
   "cell_type": "markdown",
   "id": "c6dfea76",
   "metadata": {},
   "source": [
    "### KNeighborsClassifier\n",
    "- It is similar for `KNeighborsClassifier`"
   ]
  },
  {
   "cell_type": "code",
   "execution_count": 15,
   "id": "47e0a65f",
   "metadata": {},
   "outputs": [],
   "source": [
    "from sklearn.neighbors import KNeighborsClassifier"
   ]
  },
  {
   "cell_type": "code",
   "execution_count": 16,
   "id": "39c02c62",
   "metadata": {},
   "outputs": [
    {
     "data": {
      "text/plain": [
       "1.0"
      ]
     },
     "execution_count": 16,
     "metadata": {},
     "output_type": "execute_result"
    }
   ],
   "source": [
    "kn = KNeighborsClassifier()\n",
    "kn.fit(X_train, y_train)\n",
    "y_pred = kn.predict(X_test)\n",
    "accuracy_score(y_test, y_pred)"
   ]
  },
  {
   "cell_type": "code",
   "execution_count": null,
   "id": "3c97d9cb",
   "metadata": {},
   "outputs": [],
   "source": []
  },
  {
   "cell_type": "code",
   "execution_count": null,
   "id": "b5e328e2",
   "metadata": {},
   "outputs": [],
   "source": []
  }
 ],
 "metadata": {
  "kernelspec": {
   "display_name": "Python 3 (ipykernel)",
   "language": "python",
   "name": "python3"
  },
  "language_info": {
   "codemirror_mode": {
    "name": "ipython",
    "version": 3
   },
   "file_extension": ".py",
   "mimetype": "text/x-python",
   "name": "python",
   "nbconvert_exporter": "python",
   "pygments_lexer": "ipython3",
   "version": "3.9.7"
  }
 },
 "nbformat": 4,
 "nbformat_minor": 5
}
