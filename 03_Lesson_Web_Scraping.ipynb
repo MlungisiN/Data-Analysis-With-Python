{
  "cells": [
    {
      "cell_type": "markdown",
      "metadata": {
        "id": "view-in-github",
        "colab_type": "text"
      },
      "source": [
        "<a href=\"https://colab.research.google.com/github/MlungisiN/Data-Science-With-Python/blob/master/03_Lesson_Web_Scraping.ipynb\" target=\"_parent\"><img src=\"https://colab.research.google.com/assets/colab-badge.svg\" alt=\"Open In Colab\"/></a>"
      ]
    },
    {
      "cell_type": "markdown",
      "id": "6b9bfa52",
      "metadata": {
        "id": "6b9bfa52"
      },
      "source": [
        "<a \n",
        " href=\"https://colab.research.google.com/github/LearnPythonWithRune/DataScienceWithPython/blob/main/colab/starter/03 - Lesson - Web Scraping.ipynb\"\n",
        " target=\"_parent\">\n",
        "<img \n",
        " src=\"https://colab.research.google.com/assets/colab-badge.svg\"\n",
        "alt=\"Open In Colab\"/>\n",
        "</a>"
      ]
    },
    {
      "cell_type": "markdown",
      "id": "5f07dab3",
      "metadata": {
        "id": "5f07dab3"
      },
      "source": [
        "# Web Scraping"
      ]
    },
    {
      "cell_type": "markdown",
      "id": "e6717fee",
      "metadata": {
        "id": "e6717fee"
      },
      "source": [
        "![Data Science Workflow](https://raw.githubusercontent.com/LearnPythonWithRune/DataScienceWithPython/main/jupyter/final/img/ds-workflow.png)"
      ]
    },
    {
      "cell_type": "markdown",
      "id": "f6e0f2ef",
      "metadata": {
        "id": "f6e0f2ef"
      },
      "source": [
        "## Acquire Data\n",
        "### Common Data Sources\n",
        "- **The Internet - Web Scraping**\n",
        "- Databasis\n",
        "- CSV\n",
        "- Excel\n",
        "- Parquet"
      ]
    },
    {
      "cell_type": "markdown",
      "id": "01c18e70",
      "metadata": {
        "id": "01c18e70"
      },
      "source": [
        "### Web Scraping\n",
        "- Extracting data from websites\n",
        "- Leagal issues: [wikipedia.org](https://en.wikipedia.org/wiki/Web_scraping#Legal_issues)\n",
        "- The legality of web scraping varies across the world.\n",
        "- In general, web scraping may be against the terms of use of some websites, but the enforceability of these terms is unclear."
      ]
    },
    {
      "cell_type": "markdown",
      "id": "e8e501f1",
      "metadata": {
        "id": "e8e501f1"
      },
      "source": [
        "### Be ethical\n",
        "- Not for commercial use\n",
        "- Only private use"
      ]
    },
    {
      "cell_type": "markdown",
      "id": "29b08319",
      "metadata": {
        "id": "29b08319"
      },
      "source": [
        "## Example\n",
        "- Let's consider [https://en.wikipedia.org/wiki/Wikipedia:Fundraising_statistics](https://en.wikipedia.org/wiki/Wikipedia:Fundraising_statistics)\n",
        "- **pandas** ```.read_html(.)``` Read HTML tables into a list of DataFrame objects ([docs](https://pandas.pydata.org/docs/reference/api/pandas.read_html.html))."
      ]
    },
    {
      "cell_type": "code",
      "execution_count": 1,
      "id": "23f43d17",
      "metadata": {
        "id": "23f43d17"
      },
      "outputs": [],
      "source": [
        "import pandas as pd"
      ]
    },
    {
      "cell_type": "code",
      "execution_count": 2,
      "id": "a4769f54",
      "metadata": {
        "id": "a4769f54"
      },
      "outputs": [],
      "source": [
        "url = \"https://en.wikipedia.org/wiki/Wikipedia:Fundraising_statistics\"\n",
        "\n",
        "data = pd.read_html(url)"
      ]
    },
    {
      "cell_type": "code",
      "execution_count": 6,
      "id": "dc2759d5",
      "metadata": {
        "colab": {
          "base_uri": "https://localhost:8080/"
        },
        "id": "dc2759d5",
        "outputId": "cf386726-6f65-4b8e-d6bc-1fef478ffe36"
      },
      "outputs": [
        {
          "output_type": "execute_result",
          "data": {
            "text/plain": [
              "list"
            ]
          },
          "metadata": {},
          "execution_count": 6
        }
      ],
      "source": [
        "type(data)"
      ]
    },
    {
      "cell_type": "code",
      "execution_count": 10,
      "id": "f0c3b5f5",
      "metadata": {
        "colab": {
          "base_uri": "https://localhost:8080/",
          "height": 206
        },
        "id": "f0c3b5f5",
        "outputId": "27e1d99d-2c6f-4d91-c85f-302cd3330ddf"
      },
      "outputs": [
        {
          "output_type": "execute_result",
          "data": {
            "text/plain": [
              "      Year Source        Revenue       Expenses    Asset rise   Total assets\n",
              "0  2021/22    PDF  $ 154,686,521  $ 145,970,915   $ 8,173,996  $ 239,351,532\n",
              "1  2020/21    PDF  $ 162,886,686  $ 111,839,819  $ 50,861,811  $ 231,177,536\n",
              "2  2019/20    PDF  $ 129,234,327  $ 112,489,397  $ 14,674,300  $ 180,315,725\n",
              "3  2018/19    PDF  $ 120,067,266   $ 91,414,010  $ 30,691,855  $ 165,641,425\n",
              "4  2017/18    PDF  $ 104,505,783   $ 81,442,265  $ 21,619,373  $ 134,949,570"
            ],
            "text/html": [
              "\n",
              "  <div id=\"df-b1f1604b-677a-40b1-be2f-c9629f36e526\">\n",
              "    <div class=\"colab-df-container\">\n",
              "      <div>\n",
              "<style scoped>\n",
              "    .dataframe tbody tr th:only-of-type {\n",
              "        vertical-align: middle;\n",
              "    }\n",
              "\n",
              "    .dataframe tbody tr th {\n",
              "        vertical-align: top;\n",
              "    }\n",
              "\n",
              "    .dataframe thead th {\n",
              "        text-align: right;\n",
              "    }\n",
              "</style>\n",
              "<table border=\"1\" class=\"dataframe\">\n",
              "  <thead>\n",
              "    <tr style=\"text-align: right;\">\n",
              "      <th></th>\n",
              "      <th>Year</th>\n",
              "      <th>Source</th>\n",
              "      <th>Revenue</th>\n",
              "      <th>Expenses</th>\n",
              "      <th>Asset rise</th>\n",
              "      <th>Total assets</th>\n",
              "    </tr>\n",
              "  </thead>\n",
              "  <tbody>\n",
              "    <tr>\n",
              "      <th>0</th>\n",
              "      <td>2021/22</td>\n",
              "      <td>PDF</td>\n",
              "      <td>$ 154,686,521</td>\n",
              "      <td>$ 145,970,915</td>\n",
              "      <td>$ 8,173,996</td>\n",
              "      <td>$ 239,351,532</td>\n",
              "    </tr>\n",
              "    <tr>\n",
              "      <th>1</th>\n",
              "      <td>2020/21</td>\n",
              "      <td>PDF</td>\n",
              "      <td>$ 162,886,686</td>\n",
              "      <td>$ 111,839,819</td>\n",
              "      <td>$ 50,861,811</td>\n",
              "      <td>$ 231,177,536</td>\n",
              "    </tr>\n",
              "    <tr>\n",
              "      <th>2</th>\n",
              "      <td>2019/20</td>\n",
              "      <td>PDF</td>\n",
              "      <td>$ 129,234,327</td>\n",
              "      <td>$ 112,489,397</td>\n",
              "      <td>$ 14,674,300</td>\n",
              "      <td>$ 180,315,725</td>\n",
              "    </tr>\n",
              "    <tr>\n",
              "      <th>3</th>\n",
              "      <td>2018/19</td>\n",
              "      <td>PDF</td>\n",
              "      <td>$ 120,067,266</td>\n",
              "      <td>$ 91,414,010</td>\n",
              "      <td>$ 30,691,855</td>\n",
              "      <td>$ 165,641,425</td>\n",
              "    </tr>\n",
              "    <tr>\n",
              "      <th>4</th>\n",
              "      <td>2017/18</td>\n",
              "      <td>PDF</td>\n",
              "      <td>$ 104,505,783</td>\n",
              "      <td>$ 81,442,265</td>\n",
              "      <td>$ 21,619,373</td>\n",
              "      <td>$ 134,949,570</td>\n",
              "    </tr>\n",
              "  </tbody>\n",
              "</table>\n",
              "</div>\n",
              "      <button class=\"colab-df-convert\" onclick=\"convertToInteractive('df-b1f1604b-677a-40b1-be2f-c9629f36e526')\"\n",
              "              title=\"Convert this dataframe to an interactive table.\"\n",
              "              style=\"display:none;\">\n",
              "        \n",
              "  <svg xmlns=\"http://www.w3.org/2000/svg\" height=\"24px\"viewBox=\"0 0 24 24\"\n",
              "       width=\"24px\">\n",
              "    <path d=\"M0 0h24v24H0V0z\" fill=\"none\"/>\n",
              "    <path d=\"M18.56 5.44l.94 2.06.94-2.06 2.06-.94-2.06-.94-.94-2.06-.94 2.06-2.06.94zm-11 1L8.5 8.5l.94-2.06 2.06-.94-2.06-.94L8.5 2.5l-.94 2.06-2.06.94zm10 10l.94 2.06.94-2.06 2.06-.94-2.06-.94-.94-2.06-.94 2.06-2.06.94z\"/><path d=\"M17.41 7.96l-1.37-1.37c-.4-.4-.92-.59-1.43-.59-.52 0-1.04.2-1.43.59L10.3 9.45l-7.72 7.72c-.78.78-.78 2.05 0 2.83L4 21.41c.39.39.9.59 1.41.59.51 0 1.02-.2 1.41-.59l7.78-7.78 2.81-2.81c.8-.78.8-2.07 0-2.86zM5.41 20L4 18.59l7.72-7.72 1.47 1.35L5.41 20z\"/>\n",
              "  </svg>\n",
              "      </button>\n",
              "      \n",
              "  <style>\n",
              "    .colab-df-container {\n",
              "      display:flex;\n",
              "      flex-wrap:wrap;\n",
              "      gap: 12px;\n",
              "    }\n",
              "\n",
              "    .colab-df-convert {\n",
              "      background-color: #E8F0FE;\n",
              "      border: none;\n",
              "      border-radius: 50%;\n",
              "      cursor: pointer;\n",
              "      display: none;\n",
              "      fill: #1967D2;\n",
              "      height: 32px;\n",
              "      padding: 0 0 0 0;\n",
              "      width: 32px;\n",
              "    }\n",
              "\n",
              "    .colab-df-convert:hover {\n",
              "      background-color: #E2EBFA;\n",
              "      box-shadow: 0px 1px 2px rgba(60, 64, 67, 0.3), 0px 1px 3px 1px rgba(60, 64, 67, 0.15);\n",
              "      fill: #174EA6;\n",
              "    }\n",
              "\n",
              "    [theme=dark] .colab-df-convert {\n",
              "      background-color: #3B4455;\n",
              "      fill: #D2E3FC;\n",
              "    }\n",
              "\n",
              "    [theme=dark] .colab-df-convert:hover {\n",
              "      background-color: #434B5C;\n",
              "      box-shadow: 0px 1px 3px 1px rgba(0, 0, 0, 0.15);\n",
              "      filter: drop-shadow(0px 1px 2px rgba(0, 0, 0, 0.3));\n",
              "      fill: #FFFFFF;\n",
              "    }\n",
              "  </style>\n",
              "\n",
              "      <script>\n",
              "        const buttonEl =\n",
              "          document.querySelector('#df-b1f1604b-677a-40b1-be2f-c9629f36e526 button.colab-df-convert');\n",
              "        buttonEl.style.display =\n",
              "          google.colab.kernel.accessAllowed ? 'block' : 'none';\n",
              "\n",
              "        async function convertToInteractive(key) {\n",
              "          const element = document.querySelector('#df-b1f1604b-677a-40b1-be2f-c9629f36e526');\n",
              "          const dataTable =\n",
              "            await google.colab.kernel.invokeFunction('convertToInteractive',\n",
              "                                                     [key], {});\n",
              "          if (!dataTable) return;\n",
              "\n",
              "          const docLinkHtml = 'Like what you see? Visit the ' +\n",
              "            '<a target=\"_blank\" href=https://colab.research.google.com/notebooks/data_table.ipynb>data table notebook</a>'\n",
              "            + ' to learn more about interactive tables.';\n",
              "          element.innerHTML = '';\n",
              "          dataTable['output_type'] = 'display_data';\n",
              "          await google.colab.output.renderOutput(dataTable, element);\n",
              "          const docLink = document.createElement('div');\n",
              "          docLink.innerHTML = docLinkHtml;\n",
              "          element.appendChild(docLink);\n",
              "        }\n",
              "      </script>\n",
              "    </div>\n",
              "  </div>\n",
              "  "
            ]
          },
          "metadata": {},
          "execution_count": 10
        }
      ],
      "source": [
        "data[0].head()"
      ]
    },
    {
      "cell_type": "code",
      "execution_count": 11,
      "id": "bc13ae77",
      "metadata": {
        "id": "bc13ae77"
      },
      "outputs": [],
      "source": [
        "fundraising = data[0]"
      ]
    },
    {
      "cell_type": "code",
      "execution_count": 12,
      "id": "649d61ac",
      "metadata": {
        "colab": {
          "base_uri": "https://localhost:8080/"
        },
        "id": "649d61ac",
        "outputId": "c97ff0c6-0040-4453-ac55-55c42f7d0c25"
      },
      "outputs": [
        {
          "output_type": "execute_result",
          "data": {
            "text/plain": [
              "Year            object\n",
              "Source          object\n",
              "Revenue         object\n",
              "Expenses        object\n",
              "Asset rise      object\n",
              "Total assets    object\n",
              "dtype: object"
            ]
          },
          "metadata": {},
          "execution_count": 12
        }
      ],
      "source": [
        "fundraising.dtypes"
      ]
    },
    {
      "cell_type": "code",
      "execution_count": 14,
      "id": "9f97ed78",
      "metadata": {
        "colab": {
          "base_uri": "https://localhost:8080/",
          "height": 206
        },
        "id": "9f97ed78",
        "outputId": "4e6483a2-a82f-483b-892b-eb749c10fa9f"
      },
      "outputs": [
        {
          "output_type": "execute_result",
          "data": {
            "text/plain": [
              "      Year Source        Revenue       Expenses    Asset rise   Total assets  \\\n",
              "0  2021/22    PDF  $ 154,686,521  $ 145,970,915   $ 8,173,996  $ 239,351,532   \n",
              "1  2020/21    PDF  $ 162,886,686  $ 111,839,819  $ 50,861,811  $ 231,177,536   \n",
              "2  2019/20    PDF  $ 129,234,327  $ 112,489,397  $ 14,674,300  $ 180,315,725   \n",
              "3  2018/19    PDF  $ 120,067,266   $ 91,414,010  $ 30,691,855  $ 165,641,425   \n",
              "4  2017/18    PDF  $ 104,505,783   $ 81,442,265  $ 21,619,373  $ 134,949,570   \n",
              "\n",
              "         Exp  \n",
              "0  145970915  \n",
              "1  111839819  \n",
              "2  112489397  \n",
              "3   91414010  \n",
              "4   81442265  "
            ],
            "text/html": [
              "\n",
              "  <div id=\"df-d030cecd-fe54-4f09-9a3a-888cfedbb58c\">\n",
              "    <div class=\"colab-df-container\">\n",
              "      <div>\n",
              "<style scoped>\n",
              "    .dataframe tbody tr th:only-of-type {\n",
              "        vertical-align: middle;\n",
              "    }\n",
              "\n",
              "    .dataframe tbody tr th {\n",
              "        vertical-align: top;\n",
              "    }\n",
              "\n",
              "    .dataframe thead th {\n",
              "        text-align: right;\n",
              "    }\n",
              "</style>\n",
              "<table border=\"1\" class=\"dataframe\">\n",
              "  <thead>\n",
              "    <tr style=\"text-align: right;\">\n",
              "      <th></th>\n",
              "      <th>Year</th>\n",
              "      <th>Source</th>\n",
              "      <th>Revenue</th>\n",
              "      <th>Expenses</th>\n",
              "      <th>Asset rise</th>\n",
              "      <th>Total assets</th>\n",
              "      <th>Exp</th>\n",
              "    </tr>\n",
              "  </thead>\n",
              "  <tbody>\n",
              "    <tr>\n",
              "      <th>0</th>\n",
              "      <td>2021/22</td>\n",
              "      <td>PDF</td>\n",
              "      <td>$ 154,686,521</td>\n",
              "      <td>$ 145,970,915</td>\n",
              "      <td>$ 8,173,996</td>\n",
              "      <td>$ 239,351,532</td>\n",
              "      <td>145970915</td>\n",
              "    </tr>\n",
              "    <tr>\n",
              "      <th>1</th>\n",
              "      <td>2020/21</td>\n",
              "      <td>PDF</td>\n",
              "      <td>$ 162,886,686</td>\n",
              "      <td>$ 111,839,819</td>\n",
              "      <td>$ 50,861,811</td>\n",
              "      <td>$ 231,177,536</td>\n",
              "      <td>111839819</td>\n",
              "    </tr>\n",
              "    <tr>\n",
              "      <th>2</th>\n",
              "      <td>2019/20</td>\n",
              "      <td>PDF</td>\n",
              "      <td>$ 129,234,327</td>\n",
              "      <td>$ 112,489,397</td>\n",
              "      <td>$ 14,674,300</td>\n",
              "      <td>$ 180,315,725</td>\n",
              "      <td>112489397</td>\n",
              "    </tr>\n",
              "    <tr>\n",
              "      <th>3</th>\n",
              "      <td>2018/19</td>\n",
              "      <td>PDF</td>\n",
              "      <td>$ 120,067,266</td>\n",
              "      <td>$ 91,414,010</td>\n",
              "      <td>$ 30,691,855</td>\n",
              "      <td>$ 165,641,425</td>\n",
              "      <td>91414010</td>\n",
              "    </tr>\n",
              "    <tr>\n",
              "      <th>4</th>\n",
              "      <td>2017/18</td>\n",
              "      <td>PDF</td>\n",
              "      <td>$ 104,505,783</td>\n",
              "      <td>$ 81,442,265</td>\n",
              "      <td>$ 21,619,373</td>\n",
              "      <td>$ 134,949,570</td>\n",
              "      <td>81442265</td>\n",
              "    </tr>\n",
              "  </tbody>\n",
              "</table>\n",
              "</div>\n",
              "      <button class=\"colab-df-convert\" onclick=\"convertToInteractive('df-d030cecd-fe54-4f09-9a3a-888cfedbb58c')\"\n",
              "              title=\"Convert this dataframe to an interactive table.\"\n",
              "              style=\"display:none;\">\n",
              "        \n",
              "  <svg xmlns=\"http://www.w3.org/2000/svg\" height=\"24px\"viewBox=\"0 0 24 24\"\n",
              "       width=\"24px\">\n",
              "    <path d=\"M0 0h24v24H0V0z\" fill=\"none\"/>\n",
              "    <path d=\"M18.56 5.44l.94 2.06.94-2.06 2.06-.94-2.06-.94-.94-2.06-.94 2.06-2.06.94zm-11 1L8.5 8.5l.94-2.06 2.06-.94-2.06-.94L8.5 2.5l-.94 2.06-2.06.94zm10 10l.94 2.06.94-2.06 2.06-.94-2.06-.94-.94-2.06-.94 2.06-2.06.94z\"/><path d=\"M17.41 7.96l-1.37-1.37c-.4-.4-.92-.59-1.43-.59-.52 0-1.04.2-1.43.59L10.3 9.45l-7.72 7.72c-.78.78-.78 2.05 0 2.83L4 21.41c.39.39.9.59 1.41.59.51 0 1.02-.2 1.41-.59l7.78-7.78 2.81-2.81c.8-.78.8-2.07 0-2.86zM5.41 20L4 18.59l7.72-7.72 1.47 1.35L5.41 20z\"/>\n",
              "  </svg>\n",
              "      </button>\n",
              "      \n",
              "  <style>\n",
              "    .colab-df-container {\n",
              "      display:flex;\n",
              "      flex-wrap:wrap;\n",
              "      gap: 12px;\n",
              "    }\n",
              "\n",
              "    .colab-df-convert {\n",
              "      background-color: #E8F0FE;\n",
              "      border: none;\n",
              "      border-radius: 50%;\n",
              "      cursor: pointer;\n",
              "      display: none;\n",
              "      fill: #1967D2;\n",
              "      height: 32px;\n",
              "      padding: 0 0 0 0;\n",
              "      width: 32px;\n",
              "    }\n",
              "\n",
              "    .colab-df-convert:hover {\n",
              "      background-color: #E2EBFA;\n",
              "      box-shadow: 0px 1px 2px rgba(60, 64, 67, 0.3), 0px 1px 3px 1px rgba(60, 64, 67, 0.15);\n",
              "      fill: #174EA6;\n",
              "    }\n",
              "\n",
              "    [theme=dark] .colab-df-convert {\n",
              "      background-color: #3B4455;\n",
              "      fill: #D2E3FC;\n",
              "    }\n",
              "\n",
              "    [theme=dark] .colab-df-convert:hover {\n",
              "      background-color: #434B5C;\n",
              "      box-shadow: 0px 1px 3px 1px rgba(0, 0, 0, 0.15);\n",
              "      filter: drop-shadow(0px 1px 2px rgba(0, 0, 0, 0.3));\n",
              "      fill: #FFFFFF;\n",
              "    }\n",
              "  </style>\n",
              "\n",
              "      <script>\n",
              "        const buttonEl =\n",
              "          document.querySelector('#df-d030cecd-fe54-4f09-9a3a-888cfedbb58c button.colab-df-convert');\n",
              "        buttonEl.style.display =\n",
              "          google.colab.kernel.accessAllowed ? 'block' : 'none';\n",
              "\n",
              "        async function convertToInteractive(key) {\n",
              "          const element = document.querySelector('#df-d030cecd-fe54-4f09-9a3a-888cfedbb58c');\n",
              "          const dataTable =\n",
              "            await google.colab.kernel.invokeFunction('convertToInteractive',\n",
              "                                                     [key], {});\n",
              "          if (!dataTable) return;\n",
              "\n",
              "          const docLinkHtml = 'Like what you see? Visit the ' +\n",
              "            '<a target=\"_blank\" href=https://colab.research.google.com/notebooks/data_table.ipynb>data table notebook</a>'\n",
              "            + ' to learn more about interactive tables.';\n",
              "          element.innerHTML = '';\n",
              "          dataTable['output_type'] = 'display_data';\n",
              "          await google.colab.output.renderOutput(dataTable, element);\n",
              "          const docLink = document.createElement('div');\n",
              "          docLink.innerHTML = docLinkHtml;\n",
              "          element.appendChild(docLink);\n",
              "        }\n",
              "      </script>\n",
              "    </div>\n",
              "  </div>\n",
              "  "
            ]
          },
          "metadata": {},
          "execution_count": 14
        }
      ],
      "source": [
        "fundraising['Exp'] = fundraising['Expenses'].str[2:]\n",
        "fundraising['Exp'] = fundraising['Exp'].str.replace(',', '')\n",
        "\n",
        "fundraising.head()"
      ]
    },
    {
      "cell_type": "code",
      "source": [
        "fundraising['Exp'] = pd.to_numeric(fundraising['Exp'])"
      ],
      "metadata": {
        "id": "RGJIbCp-PmYu"
      },
      "id": "RGJIbCp-PmYu",
      "execution_count": 15,
      "outputs": []
    },
    {
      "cell_type": "code",
      "source": [
        "fundraising.dtypes"
      ],
      "metadata": {
        "colab": {
          "base_uri": "https://localhost:8080/"
        },
        "id": "cLS52Tl3QxMQ",
        "outputId": "55830584-c177-491d-f1fc-af30925750b2"
      },
      "id": "cLS52Tl3QxMQ",
      "execution_count": 17,
      "outputs": [
        {
          "output_type": "execute_result",
          "data": {
            "text/plain": [
              "Year            object\n",
              "Source          object\n",
              "Revenue         object\n",
              "Expenses        object\n",
              "Asset rise      object\n",
              "Total assets    object\n",
              "Exp              int64\n",
              "dtype: object"
            ]
          },
          "metadata": {},
          "execution_count": 17
        }
      ]
    },
    {
      "cell_type": "code",
      "source": [
        "fundraising['Rev'] = fundraising['Revenue'].str[2:]\n",
        "fundraising['Rev'] = fundraising['Rev'].str.replace(',', '')\n",
        "fundraising.dtypes"
      ],
      "metadata": {
        "colab": {
          "base_uri": "https://localhost:8080/"
        },
        "id": "KIZ06lqOReUa",
        "outputId": "028e3783-73bc-4838-b94c-517b07fc2fff"
      },
      "id": "KIZ06lqOReUa",
      "execution_count": 18,
      "outputs": [
        {
          "output_type": "execute_result",
          "data": {
            "text/plain": [
              "Year            object\n",
              "Source          object\n",
              "Revenue         object\n",
              "Expenses        object\n",
              "Asset rise      object\n",
              "Total assets    object\n",
              "Exp              int64\n",
              "Rev             object\n",
              "dtype: object"
            ]
          },
          "metadata": {},
          "execution_count": 18
        }
      ]
    },
    {
      "cell_type": "code",
      "source": [
        "fundraising.loc[0, 'Rev'] = 'spam'"
      ],
      "metadata": {
        "id": "Sp0kG7LLRe9Q"
      },
      "id": "Sp0kG7LLRe9Q",
      "execution_count": 19,
      "outputs": []
    },
    {
      "cell_type": "code",
      "source": [
        "fundraising.head()"
      ],
      "metadata": {
        "colab": {
          "base_uri": "https://localhost:8080/",
          "height": 206
        },
        "id": "PmcfNxpkRfWw",
        "outputId": "9a7535b9-ea49-4d97-d595-af6da2ac5653"
      },
      "id": "PmcfNxpkRfWw",
      "execution_count": 20,
      "outputs": [
        {
          "output_type": "execute_result",
          "data": {
            "text/plain": [
              "      Year Source        Revenue       Expenses    Asset rise   Total assets  \\\n",
              "0  2021/22    PDF  $ 154,686,521  $ 145,970,915   $ 8,173,996  $ 239,351,532   \n",
              "1  2020/21    PDF  $ 162,886,686  $ 111,839,819  $ 50,861,811  $ 231,177,536   \n",
              "2  2019/20    PDF  $ 129,234,327  $ 112,489,397  $ 14,674,300  $ 180,315,725   \n",
              "3  2018/19    PDF  $ 120,067,266   $ 91,414,010  $ 30,691,855  $ 165,641,425   \n",
              "4  2017/18    PDF  $ 104,505,783   $ 81,442,265  $ 21,619,373  $ 134,949,570   \n",
              "\n",
              "         Exp        Rev  \n",
              "0  145970915       spam  \n",
              "1  111839819  162886686  \n",
              "2  112489397  129234327  \n",
              "3   91414010  120067266  \n",
              "4   81442265  104505783  "
            ],
            "text/html": [
              "\n",
              "  <div id=\"df-11b19c8c-89c0-4254-ac21-2f6199e44f7e\">\n",
              "    <div class=\"colab-df-container\">\n",
              "      <div>\n",
              "<style scoped>\n",
              "    .dataframe tbody tr th:only-of-type {\n",
              "        vertical-align: middle;\n",
              "    }\n",
              "\n",
              "    .dataframe tbody tr th {\n",
              "        vertical-align: top;\n",
              "    }\n",
              "\n",
              "    .dataframe thead th {\n",
              "        text-align: right;\n",
              "    }\n",
              "</style>\n",
              "<table border=\"1\" class=\"dataframe\">\n",
              "  <thead>\n",
              "    <tr style=\"text-align: right;\">\n",
              "      <th></th>\n",
              "      <th>Year</th>\n",
              "      <th>Source</th>\n",
              "      <th>Revenue</th>\n",
              "      <th>Expenses</th>\n",
              "      <th>Asset rise</th>\n",
              "      <th>Total assets</th>\n",
              "      <th>Exp</th>\n",
              "      <th>Rev</th>\n",
              "    </tr>\n",
              "  </thead>\n",
              "  <tbody>\n",
              "    <tr>\n",
              "      <th>0</th>\n",
              "      <td>2021/22</td>\n",
              "      <td>PDF</td>\n",
              "      <td>$ 154,686,521</td>\n",
              "      <td>$ 145,970,915</td>\n",
              "      <td>$ 8,173,996</td>\n",
              "      <td>$ 239,351,532</td>\n",
              "      <td>145970915</td>\n",
              "      <td>spam</td>\n",
              "    </tr>\n",
              "    <tr>\n",
              "      <th>1</th>\n",
              "      <td>2020/21</td>\n",
              "      <td>PDF</td>\n",
              "      <td>$ 162,886,686</td>\n",
              "      <td>$ 111,839,819</td>\n",
              "      <td>$ 50,861,811</td>\n",
              "      <td>$ 231,177,536</td>\n",
              "      <td>111839819</td>\n",
              "      <td>162886686</td>\n",
              "    </tr>\n",
              "    <tr>\n",
              "      <th>2</th>\n",
              "      <td>2019/20</td>\n",
              "      <td>PDF</td>\n",
              "      <td>$ 129,234,327</td>\n",
              "      <td>$ 112,489,397</td>\n",
              "      <td>$ 14,674,300</td>\n",
              "      <td>$ 180,315,725</td>\n",
              "      <td>112489397</td>\n",
              "      <td>129234327</td>\n",
              "    </tr>\n",
              "    <tr>\n",
              "      <th>3</th>\n",
              "      <td>2018/19</td>\n",
              "      <td>PDF</td>\n",
              "      <td>$ 120,067,266</td>\n",
              "      <td>$ 91,414,010</td>\n",
              "      <td>$ 30,691,855</td>\n",
              "      <td>$ 165,641,425</td>\n",
              "      <td>91414010</td>\n",
              "      <td>120067266</td>\n",
              "    </tr>\n",
              "    <tr>\n",
              "      <th>4</th>\n",
              "      <td>2017/18</td>\n",
              "      <td>PDF</td>\n",
              "      <td>$ 104,505,783</td>\n",
              "      <td>$ 81,442,265</td>\n",
              "      <td>$ 21,619,373</td>\n",
              "      <td>$ 134,949,570</td>\n",
              "      <td>81442265</td>\n",
              "      <td>104505783</td>\n",
              "    </tr>\n",
              "  </tbody>\n",
              "</table>\n",
              "</div>\n",
              "      <button class=\"colab-df-convert\" onclick=\"convertToInteractive('df-11b19c8c-89c0-4254-ac21-2f6199e44f7e')\"\n",
              "              title=\"Convert this dataframe to an interactive table.\"\n",
              "              style=\"display:none;\">\n",
              "        \n",
              "  <svg xmlns=\"http://www.w3.org/2000/svg\" height=\"24px\"viewBox=\"0 0 24 24\"\n",
              "       width=\"24px\">\n",
              "    <path d=\"M0 0h24v24H0V0z\" fill=\"none\"/>\n",
              "    <path d=\"M18.56 5.44l.94 2.06.94-2.06 2.06-.94-2.06-.94-.94-2.06-.94 2.06-2.06.94zm-11 1L8.5 8.5l.94-2.06 2.06-.94-2.06-.94L8.5 2.5l-.94 2.06-2.06.94zm10 10l.94 2.06.94-2.06 2.06-.94-2.06-.94-.94-2.06-.94 2.06-2.06.94z\"/><path d=\"M17.41 7.96l-1.37-1.37c-.4-.4-.92-.59-1.43-.59-.52 0-1.04.2-1.43.59L10.3 9.45l-7.72 7.72c-.78.78-.78 2.05 0 2.83L4 21.41c.39.39.9.59 1.41.59.51 0 1.02-.2 1.41-.59l7.78-7.78 2.81-2.81c.8-.78.8-2.07 0-2.86zM5.41 20L4 18.59l7.72-7.72 1.47 1.35L5.41 20z\"/>\n",
              "  </svg>\n",
              "      </button>\n",
              "      \n",
              "  <style>\n",
              "    .colab-df-container {\n",
              "      display:flex;\n",
              "      flex-wrap:wrap;\n",
              "      gap: 12px;\n",
              "    }\n",
              "\n",
              "    .colab-df-convert {\n",
              "      background-color: #E8F0FE;\n",
              "      border: none;\n",
              "      border-radius: 50%;\n",
              "      cursor: pointer;\n",
              "      display: none;\n",
              "      fill: #1967D2;\n",
              "      height: 32px;\n",
              "      padding: 0 0 0 0;\n",
              "      width: 32px;\n",
              "    }\n",
              "\n",
              "    .colab-df-convert:hover {\n",
              "      background-color: #E2EBFA;\n",
              "      box-shadow: 0px 1px 2px rgba(60, 64, 67, 0.3), 0px 1px 3px 1px rgba(60, 64, 67, 0.15);\n",
              "      fill: #174EA6;\n",
              "    }\n",
              "\n",
              "    [theme=dark] .colab-df-convert {\n",
              "      background-color: #3B4455;\n",
              "      fill: #D2E3FC;\n",
              "    }\n",
              "\n",
              "    [theme=dark] .colab-df-convert:hover {\n",
              "      background-color: #434B5C;\n",
              "      box-shadow: 0px 1px 3px 1px rgba(0, 0, 0, 0.15);\n",
              "      filter: drop-shadow(0px 1px 2px rgba(0, 0, 0, 0.3));\n",
              "      fill: #FFFFFF;\n",
              "    }\n",
              "  </style>\n",
              "\n",
              "      <script>\n",
              "        const buttonEl =\n",
              "          document.querySelector('#df-11b19c8c-89c0-4254-ac21-2f6199e44f7e button.colab-df-convert');\n",
              "        buttonEl.style.display =\n",
              "          google.colab.kernel.accessAllowed ? 'block' : 'none';\n",
              "\n",
              "        async function convertToInteractive(key) {\n",
              "          const element = document.querySelector('#df-11b19c8c-89c0-4254-ac21-2f6199e44f7e');\n",
              "          const dataTable =\n",
              "            await google.colab.kernel.invokeFunction('convertToInteractive',\n",
              "                                                     [key], {});\n",
              "          if (!dataTable) return;\n",
              "\n",
              "          const docLinkHtml = 'Like what you see? Visit the ' +\n",
              "            '<a target=\"_blank\" href=https://colab.research.google.com/notebooks/data_table.ipynb>data table notebook</a>'\n",
              "            + ' to learn more about interactive tables.';\n",
              "          element.innerHTML = '';\n",
              "          dataTable['output_type'] = 'display_data';\n",
              "          await google.colab.output.renderOutput(dataTable, element);\n",
              "          const docLink = document.createElement('div');\n",
              "          docLink.innerHTML = docLinkHtml;\n",
              "          element.appendChild(docLink);\n",
              "        }\n",
              "      </script>\n",
              "    </div>\n",
              "  </div>\n",
              "  "
            ]
          },
          "metadata": {},
          "execution_count": 20
        }
      ]
    },
    {
      "cell_type": "code",
      "source": [
        "fundraising['Rev'] = pd.to_numeric(fundraising['Rev'], errors='coerce')"
      ],
      "metadata": {
        "id": "L6KKlP3MRfxC"
      },
      "id": "L6KKlP3MRfxC",
      "execution_count": 23,
      "outputs": []
    },
    {
      "cell_type": "code",
      "source": [
        "fundraising.head()"
      ],
      "metadata": {
        "colab": {
          "base_uri": "https://localhost:8080/",
          "height": 206
        },
        "id": "STEwvN_jRgJG",
        "outputId": "7ae95a7c-a188-465a-c779-f8278b72b73b"
      },
      "id": "STEwvN_jRgJG",
      "execution_count": 24,
      "outputs": [
        {
          "output_type": "execute_result",
          "data": {
            "text/plain": [
              "      Year Source        Revenue       Expenses    Asset rise   Total assets  \\\n",
              "0  2021/22    PDF  $ 154,686,521  $ 145,970,915   $ 8,173,996  $ 239,351,532   \n",
              "1  2020/21    PDF  $ 162,886,686  $ 111,839,819  $ 50,861,811  $ 231,177,536   \n",
              "2  2019/20    PDF  $ 129,234,327  $ 112,489,397  $ 14,674,300  $ 180,315,725   \n",
              "3  2018/19    PDF  $ 120,067,266   $ 91,414,010  $ 30,691,855  $ 165,641,425   \n",
              "4  2017/18    PDF  $ 104,505,783   $ 81,442,265  $ 21,619,373  $ 134,949,570   \n",
              "\n",
              "         Exp          Rev  \n",
              "0  145970915          NaN  \n",
              "1  111839819  162886686.0  \n",
              "2  112489397  129234327.0  \n",
              "3   91414010  120067266.0  \n",
              "4   81442265  104505783.0  "
            ],
            "text/html": [
              "\n",
              "  <div id=\"df-26de4408-6625-489f-a392-1ce47d2d8506\">\n",
              "    <div class=\"colab-df-container\">\n",
              "      <div>\n",
              "<style scoped>\n",
              "    .dataframe tbody tr th:only-of-type {\n",
              "        vertical-align: middle;\n",
              "    }\n",
              "\n",
              "    .dataframe tbody tr th {\n",
              "        vertical-align: top;\n",
              "    }\n",
              "\n",
              "    .dataframe thead th {\n",
              "        text-align: right;\n",
              "    }\n",
              "</style>\n",
              "<table border=\"1\" class=\"dataframe\">\n",
              "  <thead>\n",
              "    <tr style=\"text-align: right;\">\n",
              "      <th></th>\n",
              "      <th>Year</th>\n",
              "      <th>Source</th>\n",
              "      <th>Revenue</th>\n",
              "      <th>Expenses</th>\n",
              "      <th>Asset rise</th>\n",
              "      <th>Total assets</th>\n",
              "      <th>Exp</th>\n",
              "      <th>Rev</th>\n",
              "    </tr>\n",
              "  </thead>\n",
              "  <tbody>\n",
              "    <tr>\n",
              "      <th>0</th>\n",
              "      <td>2021/22</td>\n",
              "      <td>PDF</td>\n",
              "      <td>$ 154,686,521</td>\n",
              "      <td>$ 145,970,915</td>\n",
              "      <td>$ 8,173,996</td>\n",
              "      <td>$ 239,351,532</td>\n",
              "      <td>145970915</td>\n",
              "      <td>NaN</td>\n",
              "    </tr>\n",
              "    <tr>\n",
              "      <th>1</th>\n",
              "      <td>2020/21</td>\n",
              "      <td>PDF</td>\n",
              "      <td>$ 162,886,686</td>\n",
              "      <td>$ 111,839,819</td>\n",
              "      <td>$ 50,861,811</td>\n",
              "      <td>$ 231,177,536</td>\n",
              "      <td>111839819</td>\n",
              "      <td>162886686.0</td>\n",
              "    </tr>\n",
              "    <tr>\n",
              "      <th>2</th>\n",
              "      <td>2019/20</td>\n",
              "      <td>PDF</td>\n",
              "      <td>$ 129,234,327</td>\n",
              "      <td>$ 112,489,397</td>\n",
              "      <td>$ 14,674,300</td>\n",
              "      <td>$ 180,315,725</td>\n",
              "      <td>112489397</td>\n",
              "      <td>129234327.0</td>\n",
              "    </tr>\n",
              "    <tr>\n",
              "      <th>3</th>\n",
              "      <td>2018/19</td>\n",
              "      <td>PDF</td>\n",
              "      <td>$ 120,067,266</td>\n",
              "      <td>$ 91,414,010</td>\n",
              "      <td>$ 30,691,855</td>\n",
              "      <td>$ 165,641,425</td>\n",
              "      <td>91414010</td>\n",
              "      <td>120067266.0</td>\n",
              "    </tr>\n",
              "    <tr>\n",
              "      <th>4</th>\n",
              "      <td>2017/18</td>\n",
              "      <td>PDF</td>\n",
              "      <td>$ 104,505,783</td>\n",
              "      <td>$ 81,442,265</td>\n",
              "      <td>$ 21,619,373</td>\n",
              "      <td>$ 134,949,570</td>\n",
              "      <td>81442265</td>\n",
              "      <td>104505783.0</td>\n",
              "    </tr>\n",
              "  </tbody>\n",
              "</table>\n",
              "</div>\n",
              "      <button class=\"colab-df-convert\" onclick=\"convertToInteractive('df-26de4408-6625-489f-a392-1ce47d2d8506')\"\n",
              "              title=\"Convert this dataframe to an interactive table.\"\n",
              "              style=\"display:none;\">\n",
              "        \n",
              "  <svg xmlns=\"http://www.w3.org/2000/svg\" height=\"24px\"viewBox=\"0 0 24 24\"\n",
              "       width=\"24px\">\n",
              "    <path d=\"M0 0h24v24H0V0z\" fill=\"none\"/>\n",
              "    <path d=\"M18.56 5.44l.94 2.06.94-2.06 2.06-.94-2.06-.94-.94-2.06-.94 2.06-2.06.94zm-11 1L8.5 8.5l.94-2.06 2.06-.94-2.06-.94L8.5 2.5l-.94 2.06-2.06.94zm10 10l.94 2.06.94-2.06 2.06-.94-2.06-.94-.94-2.06-.94 2.06-2.06.94z\"/><path d=\"M17.41 7.96l-1.37-1.37c-.4-.4-.92-.59-1.43-.59-.52 0-1.04.2-1.43.59L10.3 9.45l-7.72 7.72c-.78.78-.78 2.05 0 2.83L4 21.41c.39.39.9.59 1.41.59.51 0 1.02-.2 1.41-.59l7.78-7.78 2.81-2.81c.8-.78.8-2.07 0-2.86zM5.41 20L4 18.59l7.72-7.72 1.47 1.35L5.41 20z\"/>\n",
              "  </svg>\n",
              "      </button>\n",
              "      \n",
              "  <style>\n",
              "    .colab-df-container {\n",
              "      display:flex;\n",
              "      flex-wrap:wrap;\n",
              "      gap: 12px;\n",
              "    }\n",
              "\n",
              "    .colab-df-convert {\n",
              "      background-color: #E8F0FE;\n",
              "      border: none;\n",
              "      border-radius: 50%;\n",
              "      cursor: pointer;\n",
              "      display: none;\n",
              "      fill: #1967D2;\n",
              "      height: 32px;\n",
              "      padding: 0 0 0 0;\n",
              "      width: 32px;\n",
              "    }\n",
              "\n",
              "    .colab-df-convert:hover {\n",
              "      background-color: #E2EBFA;\n",
              "      box-shadow: 0px 1px 2px rgba(60, 64, 67, 0.3), 0px 1px 3px 1px rgba(60, 64, 67, 0.15);\n",
              "      fill: #174EA6;\n",
              "    }\n",
              "\n",
              "    [theme=dark] .colab-df-convert {\n",
              "      background-color: #3B4455;\n",
              "      fill: #D2E3FC;\n",
              "    }\n",
              "\n",
              "    [theme=dark] .colab-df-convert:hover {\n",
              "      background-color: #434B5C;\n",
              "      box-shadow: 0px 1px 3px 1px rgba(0, 0, 0, 0.15);\n",
              "      filter: drop-shadow(0px 1px 2px rgba(0, 0, 0, 0.3));\n",
              "      fill: #FFFFFF;\n",
              "    }\n",
              "  </style>\n",
              "\n",
              "      <script>\n",
              "        const buttonEl =\n",
              "          document.querySelector('#df-26de4408-6625-489f-a392-1ce47d2d8506 button.colab-df-convert');\n",
              "        buttonEl.style.display =\n",
              "          google.colab.kernel.accessAllowed ? 'block' : 'none';\n",
              "\n",
              "        async function convertToInteractive(key) {\n",
              "          const element = document.querySelector('#df-26de4408-6625-489f-a392-1ce47d2d8506');\n",
              "          const dataTable =\n",
              "            await google.colab.kernel.invokeFunction('convertToInteractive',\n",
              "                                                     [key], {});\n",
              "          if (!dataTable) return;\n",
              "\n",
              "          const docLinkHtml = 'Like what you see? Visit the ' +\n",
              "            '<a target=\"_blank\" href=https://colab.research.google.com/notebooks/data_table.ipynb>data table notebook</a>'\n",
              "            + ' to learn more about interactive tables.';\n",
              "          element.innerHTML = '';\n",
              "          dataTable['output_type'] = 'display_data';\n",
              "          await google.colab.output.renderOutput(dataTable, element);\n",
              "          const docLink = document.createElement('div');\n",
              "          docLink.innerHTML = docLinkHtml;\n",
              "          element.appendChild(docLink);\n",
              "        }\n",
              "      </script>\n",
              "    </div>\n",
              "  </div>\n",
              "  "
            ]
          },
          "metadata": {},
          "execution_count": 24
        }
      ]
    },
    {
      "cell_type": "code",
      "source": [
        "fundraising.dtypes"
      ],
      "metadata": {
        "colab": {
          "base_uri": "https://localhost:8080/"
        },
        "id": "bvzG-HhqRW6q",
        "outputId": "1c949108-3e07-4701-bebc-686a01d64d16"
      },
      "id": "bvzG-HhqRW6q",
      "execution_count": 25,
      "outputs": [
        {
          "output_type": "execute_result",
          "data": {
            "text/plain": [
              "Year             object\n",
              "Source           object\n",
              "Revenue          object\n",
              "Expenses         object\n",
              "Asset rise       object\n",
              "Total assets     object\n",
              "Exp               int64\n",
              "Rev             float64\n",
              "dtype: object"
            ]
          },
          "metadata": {},
          "execution_count": 25
        }
      ]
    },
    {
      "cell_type": "markdown",
      "id": "62ef8e71",
      "metadata": {
        "id": "62ef8e71"
      },
      "source": [
        "## Data Wrangling\n",
        "- Data wrangling (data munging): transforming and mapping data from one \"raw\" data form into another format\n",
        "- With the intent of making it more appropriate and valuable for a variety of downstream purposes such as analytics"
      ]
    },
    {
      "cell_type": "markdown",
      "id": "87ea87ef",
      "metadata": {
        "id": "87ea87ef"
      },
      "source": [
        "### Check the data types\n",
        "- Remember ```.dtypes```"
      ]
    },
    {
      "cell_type": "code",
      "execution_count": 29,
      "id": "777af268",
      "metadata": {
        "colab": {
          "base_uri": "https://localhost:8080/"
        },
        "id": "777af268",
        "outputId": "b414842d-f2e9-4a2d-af17-9e8398e1c6f5"
      },
      "outputs": [
        {
          "output_type": "execute_result",
          "data": {
            "text/plain": [
              "Year             object\n",
              "Source           object\n",
              "Revenue          object\n",
              "Expenses         object\n",
              "Asset rise       object\n",
              "Total assets     object\n",
              "Exp               int64\n",
              "Rev             float64\n",
              "dtype: object"
            ]
          },
          "metadata": {},
          "execution_count": 29
        }
      ],
      "source": [
        "fundraising.dtypes"
      ]
    },
    {
      "cell_type": "code",
      "execution_count": null,
      "id": "620eaf57",
      "metadata": {
        "id": "620eaf57"
      },
      "outputs": [],
      "source": []
    },
    {
      "cell_type": "code",
      "execution_count": null,
      "id": "9886af9f",
      "metadata": {
        "id": "9886af9f"
      },
      "outputs": [],
      "source": []
    },
    {
      "cell_type": "code",
      "execution_count": null,
      "id": "d279ce21",
      "metadata": {
        "id": "d279ce21"
      },
      "outputs": [],
      "source": []
    },
    {
      "cell_type": "code",
      "execution_count": null,
      "id": "4c84cc47",
      "metadata": {
        "id": "4c84cc47"
      },
      "outputs": [],
      "source": []
    },
    {
      "cell_type": "code",
      "execution_count": null,
      "id": "26a0410f",
      "metadata": {
        "id": "26a0410f"
      },
      "outputs": [],
      "source": []
    },
    {
      "cell_type": "code",
      "execution_count": null,
      "id": "b99b1b85",
      "metadata": {
        "id": "b99b1b85"
      },
      "outputs": [],
      "source": []
    },
    {
      "cell_type": "code",
      "execution_count": null,
      "id": "b8b61a77",
      "metadata": {
        "id": "b8b61a77"
      },
      "outputs": [],
      "source": []
    },
    {
      "cell_type": "code",
      "execution_count": null,
      "id": "3c66949e",
      "metadata": {
        "id": "3c66949e"
      },
      "outputs": [],
      "source": []
    },
    {
      "cell_type": "code",
      "execution_count": null,
      "id": "09f70e52",
      "metadata": {
        "id": "09f70e52"
      },
      "outputs": [],
      "source": []
    },
    {
      "cell_type": "code",
      "execution_count": null,
      "id": "e15731fb",
      "metadata": {
        "id": "e15731fb"
      },
      "outputs": [],
      "source": []
    },
    {
      "cell_type": "code",
      "execution_count": null,
      "id": "3ce1a570",
      "metadata": {
        "id": "3ce1a570"
      },
      "outputs": [],
      "source": []
    }
  ],
  "metadata": {
    "language_info": {
      "name": "python"
    },
    "colab": {
      "provenance": [],
      "include_colab_link": true
    },
    "kernelspec": {
      "name": "python3",
      "display_name": "Python 3"
    },
    "gpuClass": "standard"
  },
  "nbformat": 4,
  "nbformat_minor": 5
}